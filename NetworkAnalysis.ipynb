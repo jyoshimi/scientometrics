{
 "cells": [
  {
   "cell_type": "code",
   "execution_count": 41,
   "metadata": {},
   "outputs": [],
   "source": [
    "import networkx as nx\n",
    "import matplotlib.pyplot as plt\n",
    "from networkx.algorithms import community\n",
    "import pickle "
   ]
  },
  {
   "cell_type": "markdown",
   "metadata": {},
   "source": [
    "Run this script to read in the edge list (which contains all relevant information: source author -> target author, number of times cited). \n",
    "\n",
    "This script currently handles community detection.\n",
    "\n",
    "TODO: Get all the stats we had from gephi"
   ]
  },
  {
   "cell_type": "code",
   "execution_count": 21,
   "metadata": {},
   "outputs": [],
   "source": [
    "G = nx.read_weighted_edgelist(\"./tiny_edge_list.csv\", delimiter=\",\")\n",
    "# G = nx.read_weighted_edgelist(\"./small_edge_list.csv\", delimiter=\",\")"
   ]
  },
  {
   "cell_type": "code",
   "execution_count": 22,
   "metadata": {},
   "outputs": [
    {
     "name": "stdout",
     "output_type": "stream",
     "text": [
      "Name: \n",
      "Type: Graph\n",
      "Number of nodes: 179\n",
      "Number of edges: 228\n",
      "Average degree:   2.5475\n"
     ]
    }
   ],
   "source": [
    "print(nx.info(G))"
   ]
  },
  {
   "cell_type": "code",
   "execution_count": 23,
   "metadata": {},
   "outputs": [],
   "source": [
    "# nx.draw(G, node_size = 10, with_labels=True, font_size = 12)"
   ]
  },
  {
   "cell_type": "markdown",
   "metadata": {},
   "source": [
    "See https://networkx.github.io/documentation/stable/reference/algorithms/community.html\n",
    "\n",
    "Currently using girvan_newman but it is slow, and only uses a single processor."
   ]
  },
  {
   "cell_type": "code",
   "execution_count": 24,
   "metadata": {},
   "outputs": [],
   "source": [
    "communities_generator = community.girvan_newman(G)"
   ]
  },
  {
   "cell_type": "code",
   "execution_count": 16,
   "metadata": {},
   "outputs": [],
   "source": [
    "top_level_communities = next(communities_generator)"
   ]
  },
  {
   "cell_type": "code",
   "execution_count": 26,
   "metadata": {},
   "outputs": [
    {
     "name": "stdout",
     "output_type": "stream",
     "text": [
      "number of top-level communities: 2\n"
     ]
    }
   ],
   "source": [
    "print(\"number of top-level communities:\",len(top_level_communities))"
   ]
  },
  {
   "cell_type": "code",
   "execution_count": 19,
   "metadata": {},
   "outputs": [],
   "source": [
    "next_level_communities = next(communities_generator)"
   ]
  },
  {
   "cell_type": "code",
   "execution_count": 31,
   "metadata": {},
   "outputs": [
    {
     "data": {
      "text/plain": [
       "[['ADRIAN J',\n",
       "  'ALTMAN M',\n",
       "  'ALTOBRANDO A',\n",
       "  'ANDERSEN N',\n",
       "  'AVERCHI M',\n",
       "  'BERTORELLO A',\n",
       "  'BROGAN M',\n",
       "  'BROWNLEE T',\n",
       "  'BURCH M',\n",
       "  'CALABRESSE C',\n",
       "  'CROWE B',\n",
       "  'DAHLSTROM D',\n",
       "  'DE L',\n",
       "  'DOYON M',\n",
       "  'ENGELLAND C',\n",
       "  'FAGENBLAT M',\n",
       "  'FERENCZ F',\n",
       "  'FERRER R',\n",
       "  'FEYAERTS J',\n",
       "  'FLAMARIQUE L',\n",
       "  'JACOBS H',\n",
       "  'KINKAID J',\n",
       "  'LANGBEHN C',\n",
       "  'LIBERATI N',\n",
       "  'MCMANUS D',\n",
       "  'O L',\n",
       "  'O R',\n",
       "  'OVERGAARD S',\n",
       "  'RADINKOVIC Z',\n",
       "  'SCHALOW F',\n",
       "  'SCULT A',\n",
       "  'SERON D',\n",
       "  'STUNKEL K',\n",
       "  'TANZER M',\n",
       "  'TRATTER A',\n",
       "  'WALSH P',\n",
       "  'WRATHALL M',\n",
       "  'ZOLLER D'],\n",
       " ['AGGLETON S',\n",
       "  'ALDEA A',\n",
       "  'ALLOA E',\n",
       "  'ALVIN J',\n",
       "  'ARANDATORRES C',\n",
       "  'ARGUELLES F',\n",
       "  'ASCARATE L',\n",
       "  'BADGER L',\n",
       "  'BANHAM G',\n",
       "  'BARBER M',\n",
       "  'BARKER J',\n",
       "  'BECKMANN Z',\n",
       "  'BEGOUT B',\n",
       "  'BEHNKE E',\n",
       "  'BERNASCONI R',\n",
       "  'BERTOLINI S',\n",
       "  'BESOLI S',\n",
       "  'BJORK U',\n",
       "  'BLECHA I',\n",
       "  'BOJANIC P',\n",
       "  'BOROBIA J',\n",
       "  'BRENNAN E',\n",
       "  'BRIEDIS M',\n",
       "  'BRISART R',\n",
       "  'BRUDZINSKA J',\n",
       "  'BRUZINA R',\n",
       "  'CABRERA C',\n",
       "  'CAI W',\n",
       "  'CAIRNS D',\n",
       "  'CAMILLERI S',\n",
       "  'CAVALLARO M',\n",
       "  'CERBONE D',\n",
       "  'CHERNAVIN G',\n",
       "  'CHRISTENSEN J',\n",
       "  'CIBULKA J',\n",
       "  'COPILAS E',\n",
       "  'CORA G',\n",
       "  'COSTELLOE T',\n",
       "  'CRISTIN R',\n",
       "  'CROWELL S',\n",
       "  'DASTUR F',\n",
       "  'DAVIDSON S',\n",
       "  'DE N',\n",
       "  'DE P',\n",
       "  'DE W',\n",
       "  'DECLERCK G',\n",
       "  'DEPRAZ N',\n",
       "  'DETISTOVA A',\n",
       "  'DONOHOE J',\n",
       "  'DUPONT C',\n",
       "  'DWYER D',\n",
       "  'EDIE J',\n",
       "  'ELDRIDGE P',\n",
       "  'ELLISTON F',\n",
       "  'EMBREE L',\n",
       "  'FALCON L',\n",
       "  'FINK E',\n",
       "  'FLYNN T',\n",
       "  'FORSTER W',\n",
       "  'GARCIA E',\n",
       "  'GARRIDO J',\n",
       "  'GHANOTAKIS G',\n",
       "  'GHITTI J',\n",
       "  'GIRARDI L',\n",
       "  'GIUBIATO G',\n",
       "  'GIUBILATO G',\n",
       "  'GONNELLA S',\n",
       "  'GRONDIN J',\n",
       "  'GRONDIN V',\n",
       "  'GROS A',\n",
       "  'GRUNER S',\n",
       "  'GUERRERO J',\n",
       "  'GUILLEN G',\n",
       "  'HART J',\n",
       "  'HART K',\n",
       "  'HAUSER K',\n",
       "  'HEINAMAA S',\n",
       "  'HENRY M',\n",
       "  'HIMANKA J',\n",
       "  'HOBBS D',\n",
       "  'HOGENOVA A',\n",
       "  'HOLMES R',\n",
       "  'HOMAN C',\n",
       "  'HOPKINS B',\n",
       "  'HUGHES D',\n",
       "  'HUSSERL E',\n",
       "  'IJSSELING S',\n",
       "  'IKEDA Y',\n",
       "  'INVERSO H',\n",
       "  'JANER D',\n",
       "  'JARAN F',\n",
       "  'JOHNSON F',\n",
       "  'JONKUS D',\n",
       "  'KINGWELL M',\n",
       "  'KISIEL T',\n",
       "  'KOCHLER H',\n",
       "  'KRISTJANSSON K',\n",
       "  'KWAN T',\n",
       "  'LAHBIB O',\n",
       "  'LAWLOR L',\n",
       "  'LEASK I',\n",
       "  'LEE E',\n",
       "  'LEE N',\n",
       "  'LELAND D',\n",
       "  'LIEBSCH B',\n",
       "  'LORELLE P',\n",
       "  'LORIES D',\n",
       "  'LOSONCZ M',\n",
       "  'LOZANO A',\n",
       "  'LUFT S',\n",
       "  'MARBACH E',\n",
       "  'MASI F',\n",
       "  'MICHEL B',\n",
       "  'MOONEY T',\n",
       "  'MORAN D',\n",
       "  'NEMETH T',\n",
       "  'NI L',\n",
       "  'NIEL L',\n",
       "  'ONATE A',\n",
       "  'PINTOS P',\n",
       "  'PLOTKA W',\n",
       "  'RABANAQUE L',\n",
       "  'ROGGERO J',\n",
       "  'ROPERO N',\n",
       "  'SAKAKIBARA T',\n",
       "  'SEPP H',\n",
       "  'SHESTOVA E',\n",
       "  'SMYTH B',\n",
       "  'SOBERANO R',\n",
       "  'SOKOLOWSKI R',\n",
       "  'TERZI P',\n",
       "  'THEODOROU P',\n",
       "  'TRAKAKIS N',\n",
       "  'VECINO M',\n",
       "  'WEBER J',\n",
       "  'ZIPPEL N'],\n",
       " ['CAPOBIANCO R', 'FIELD J', 'KENNEDY T', 'LOZAR J', 'SHEEHAN T']]"
      ]
     },
     "execution_count": 31,
     "metadata": {},
     "output_type": "execute_result"
    }
   ],
   "source": [
    "sorted(map(sorted, next_level_communities))"
   ]
  },
  {
   "cell_type": "code",
   "execution_count": 42,
   "metadata": {},
   "outputs": [],
   "source": [
    "# Save communites\n",
    "pickle.dump(next_level_communities, open(\"communities.obj\", \"wb\"))"
   ]
  },
  {
   "cell_type": "code",
   "execution_count": 49,
   "metadata": {},
   "outputs": [],
   "source": [
    "# Testing re-open\n",
    "communities = pickle.load(open(\"communities.obj\", \"rb\"))"
   ]
  },
  {
   "cell_type": "code",
   "execution_count": 50,
   "metadata": {},
   "outputs": [],
   "source": [
    "# communities"
   ]
  },
  {
   "cell_type": "code",
   "execution_count": null,
   "metadata": {},
   "outputs": [],
   "source": []
  }
 ],
 "metadata": {
  "kernelspec": {
   "display_name": "Python 3",
   "language": "python",
   "name": "python3"
  },
  "language_info": {
   "codemirror_mode": {
    "name": "ipython",
    "version": 3
   },
   "file_extension": ".py",
   "mimetype": "text/x-python",
   "name": "python",
   "nbconvert_exporter": "python",
   "pygments_lexer": "ipython3",
   "version": "3.7.3"
  }
 },
 "nbformat": 4,
 "nbformat_minor": 2
}
