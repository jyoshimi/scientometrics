{
 "cells": [
  {
   "cell_type": "code",
   "execution_count": 45,
   "metadata": {},
   "outputs": [],
   "source": [
    "import pandas as pd"
   ]
  },
  {
   "cell_type": "code",
   "execution_count": 66,
   "metadata": {},
   "outputs": [],
   "source": [
    "df= pd.read_csv(\"top_authors_by_community.csv\")"
   ]
  },
  {
   "cell_type": "code",
   "execution_count": 67,
   "metadata": {},
   "outputs": [],
   "source": [
    "pd.options.display.max_rows = 200"
   ]
  },
  {
   "cell_type": "code",
   "execution_count": 68,
   "metadata": {},
   "outputs": [],
   "source": [
    "# df"
   ]
  },
  {
   "cell_type": "code",
   "execution_count": 69,
   "metadata": {},
   "outputs": [
    {
     "name": "stdout",
     "output_type": "stream",
     "text": [
      "             name  degree  community\n",
      "0       HUSSERL E    1188          1\n",
      "1     HEIDEGGER M     831          1\n",
      "2  MERLEAUPONTY M     703          1\n",
      "3          KANT I     378          1\n",
      "4        SARTRE J     317          1 \n",
      "\n",
      "\n",
      "          name  degree  community\n",
      "5      HEGEL G     300          2\n",
      "6  HYPPOLITE J      68          2\n",
      "7     KOJEVE A      59          2\n",
      "8     PIPPIN R      52          2\n",
      "9     FICHTE J      49          2 \n",
      "\n",
      "\n",
      "            name  degree  community\n",
      "15     JASPERS K      65          4\n",
      "16      STRAUS E      44          4\n",
      "17        SASS L      41          4\n",
      "18  BINSWANGER L      39          4\n",
      "19      PARNAS J      37          4 \n",
      "\n",
      "\n",
      "              name  degree  community\n",
      "39     GALLAGHER S     240          8\n",
      "40  WITTGENSTEIN L     181          8\n",
      "41       DREYFUS H     178          8\n",
      "42         JAMES W     162          8\n",
      "43        SEARLE J     145          8 \n",
      "\n",
      "\n",
      "          name  degree  community\n",
      "44    BUTLER J      80          9\n",
      "45     YOUNG I      49          9\n",
      "46  IRIGARAY L      38          9\n",
      "47     FANON F      29          9\n",
      "48    ALCOFF L      24          9 \n",
      "\n",
      "\n"
     ]
    }
   ],
   "source": [
    "grouped = df.groupby(df.community)\n",
    "for key, item in grouped:\n",
    "    if(item.iloc[0,1]) > 20:\n",
    "        print(grouped.get_group(key), \"\\n\\n\")"
   ]
  },
  {
   "cell_type": "code",
   "execution_count": null,
   "metadata": {},
   "outputs": [],
   "source": []
  },
  {
   "cell_type": "code",
   "execution_count": null,
   "metadata": {},
   "outputs": [],
   "source": []
  }
 ],
 "metadata": {
  "kernelspec": {
   "display_name": "Python 3",
   "language": "python",
   "name": "python3"
  },
  "language_info": {
   "codemirror_mode": {
    "name": "ipython",
    "version": 3
   },
   "file_extension": ".py",
   "mimetype": "text/x-python",
   "name": "python",
   "nbconvert_exporter": "python",
   "pygments_lexer": "ipython3",
   "version": "3.7.4"
  }
 },
 "nbformat": 4,
 "nbformat_minor": 2
}
